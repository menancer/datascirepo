{
 "cells": [
  {
   "cell_type": "markdown",
   "metadata": {},
   "source": [
    "<center>\n",
    "    <img src=\"https://cf-courses-data.s3.us.cloud-object-storage.appdomain.cloud/IBMDeveloperSkillsNetwork-DS0105EN-SkillsNetwork/labs/Module2/images/SN_web_lightmode.png\" width=\"300\" alt=\"cognitiveclass.ai logo\">\n",
    "</center>\n"
   ]
  },
  {
   "cell_type": "markdown",
   "metadata": {},
   "source": [
    "#### Add your code below following the instructions given in the course\n"
   ]
  },
  {
   "cell_type": "markdown",
   "metadata": {},
   "source": [
    "## The Notebook"
   ]
  },
  {
   "cell_type": "markdown",
   "metadata": {},
   "source": [
    "### The Introduction to the notebook"
   ]
  },
  {
   "cell_type": "markdown",
   "metadata": {},
   "source": [
    "Data Science languages are-\n",
    "1. R\n",
    "2. Python\n",
    "3. SQL\n",
    "4. Tableu"
   ]
  },
  {
   "cell_type": "markdown",
   "metadata": {},
   "source": [
    "Data Science Libraries - \n",
    "1. scikit-learn\n",
    "2. TensorFlow\n",
    "3. PyTorch\n",
    "4. Theano"
   ]
  },
  {
   "cell_type": "markdown",
   "metadata": {},
   "source": [
    "Table for Data Science tools -\n",
    "|List||||\n",
    "|--|-|-|-|\n",
    "| RapidMiner | KNIME | Tableau | Apache Spark |\n",
    "| Matplotlib | Excel | Python | SAS |\n",
    "| TensorFlow | MATLAB | Weka | NumPy |\n",
    "| Scikit-learn | Project Jupyter | Apache Hadoop | Qlik |\n",
    "| Orange | Keras | SPSS | NLTK |\n",
    "| SciPy | Tableau Public | Trifacta | BigQuery |"
   ]
  },
  {
   "cell_type": "markdown",
   "metadata": {},
   "source": [
    "#### Arithmatic Expressions Examples\n",
    "- addition        -> 2 + 4\n",
    "- subtraction     -> 4 – 2\n",
    "- multiplication  -> 2 * 4\n",
    "- division        -> 8 / 2"
   ]
  },
  {
   "cell_type": "code",
   "execution_count": 13,
   "metadata": {
    "tags": []
   },
   "outputs": [
    {
     "name": "stdout",
     "output_type": "stream",
     "text": [
      "Addition\n",
      "9\n",
      "Multiplication\n",
      "8\n"
     ]
    }
   ],
   "source": [
    "print('Addition')\n",
    "z = 3 + 6\n",
    "print(z)\n",
    "\n",
    "print('Multiplication')\n",
    "y = 2 * 4\n",
    "print(y)\n",
    "\n",
    "\n"
   ]
  },
  {
   "cell_type": "code",
   "execution_count": 22,
   "metadata": {
    "tags": []
   },
   "outputs": [
    {
     "name": "stdin",
     "output_type": "stream",
     "text": [
      "Enter Minutes :-->  50\n"
     ]
    },
    {
     "name": "stdout",
     "output_type": "stream",
     "text": [
      "Time in hours is ->  0 hours 50 minutes\n"
     ]
    }
   ],
   "source": [
    "# Convert Minute to Hours\n",
    "min = int(input(\"Enter Minutes -> \"))\n",
    "print(\"Time in hours is -> \", int(min/60), \"hours\", min % 60, \"minutes\")"
   ]
  },
  {
   "cell_type": "markdown",
   "metadata": {},
   "source": [
    "## List of Objectives\n",
    "- Exercise 2 - Create a markdown cell with the title of the notebook. (1 pt)\n",
    "- Exercise 3 - Create a markdown cell for an introduction. (1 pt)\n",
    "- Exercise 4 - Create a markdown cell to list data science languages. (3 pts)\n",
    "- Exercise 5 - Create a markdown cell to list data science libraries. (3 pts)\n",
    "- Exercise 6 - Create a markdown cell with a table of Data Science tools. (3 pts)\n",
    "- Exercise 7 - Create a markdown cell introducing arithmetic expression examples. (1 pt)\n",
    "- Exercise 8 - Create a code cell to multiply and add numbers. (2 pts)\n",
    "- Exercise 9 - Create a code cell to convert minutes to hours. (2 pts)\n",
    "- Exercise 10 -Insert a markdown cell to list Objectives. (3 pts)\n",
    "- Exercise 11 - Create a markdown cell to indicate the Author’s name. (2 pts)\n",
    "- Exercise 12 - Share your notebook through GitHub (3 pts)\n",
    "- Exercise 13 - Take a screenshot of the first page of the notebook. (1 pt)"
   ]
  },
  {
   "cell_type": "markdown",
   "metadata": {
    "tags": []
   },
   "source": [
    "\"title\": \"My Title!\",\n",
    "\"authors\": [\n",
    "  { \"name\": \"Author1\" },\n",
    "  { \"name\": \"Author2\" }\n",
    "]"
   ]
  },
  {
   "cell_type": "code",
   "execution_count": null,
   "metadata": {},
   "outputs": [],
   "source": []
  }
 ],
 "metadata": {
  "kernelspec": {
   "display_name": "Python",
   "language": "python",
   "name": "conda-env-python-py"
  },
  "language_info": {
   "codemirror_mode": {
    "name": "ipython",
    "version": 3
   },
   "file_extension": ".py",
   "mimetype": "text/x-python",
   "name": "python",
   "nbconvert_exporter": "python",
   "pygments_lexer": "ipython3",
   "version": "3.7.12"
  }
 },
 "nbformat": 4,
 "nbformat_minor": 4
}
